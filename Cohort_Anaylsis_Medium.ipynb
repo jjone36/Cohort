{
 "cells": [
  {
   "cell_type": "markdown",
   "metadata": {},
   "source": [
    "# Customer Segmentation Anaylsis"
   ]
  },
  {
   "cell_type": "markdown",
   "metadata": {},
   "source": [
    "This is the description code for customer segmentation analysis. The original resource is from the course [Customer Segmentation Analysis in Python](https://www.datacamp.com/courses/customer-segmentation-in-python) instructed by Karolis Urbonas on [DataCamp](https://www.datacamp.com). The dataset is from UCI ML repo, which is also available from [Kaggle](https://www.kaggle.com/jihyeseo/online-retail-data-set-from-uci-ml-repo)."
   ]
  },
  {
   "cell_type": "code",
   "execution_count": 1,
   "metadata": {},
   "outputs": [],
   "source": [
    "# import library\n",
    "import pandas as pd\n",
    "import numpy as np\n",
    "import datetime as dt\n",
    "\n",
    "import matplotlib.pyplot as plt\n",
    "import seaborn as sns\n",
    "\n",
    "from sklearn.preprocessing import StandardScaler\n",
    "from sklearn.cluster import KMeans"
   ]
  },
  {
   "cell_type": "markdown",
   "metadata": {},
   "source": [
    "## 1. Import data"
   ]
  },
  {
   "cell_type": "code",
   "execution_count": 84,
   "metadata": {},
   "outputs": [],
   "source": [
    "# Import the dataset\n",
    "online = pd.read_excel('Online Retail.xlsx')"
   ]
  },
  {
   "cell_type": "code",
   "execution_count": 85,
   "metadata": {},
   "outputs": [],
   "source": [
    "# drop the row missing customerID\n",
    "online = online[online.CustomerID.notnull()]"
   ]
  },
  {
   "cell_type": "markdown",
   "metadata": {},
   "source": [
    "I'll use only the subset of the full dataset, taking 20% of samples."
   ]
  },
  {
   "cell_type": "code",
   "execution_count": 86,
   "metadata": {},
   "outputs": [
    {
     "data": {
      "text/html": [
       "<div>\n",
       "<style scoped>\n",
       "    .dataframe tbody tr th:only-of-type {\n",
       "        vertical-align: middle;\n",
       "    }\n",
       "\n",
       "    .dataframe tbody tr th {\n",
       "        vertical-align: top;\n",
       "    }\n",
       "\n",
       "    .dataframe thead th {\n",
       "        text-align: right;\n",
       "    }\n",
       "</style>\n",
       "<table border=\"1\" class=\"dataframe\">\n",
       "  <thead>\n",
       "    <tr style=\"text-align: right;\">\n",
       "      <th></th>\n",
       "      <th>InvoiceNo</th>\n",
       "      <th>StockCode</th>\n",
       "      <th>Description</th>\n",
       "      <th>Quantity</th>\n",
       "      <th>InvoiceDate</th>\n",
       "      <th>UnitPrice</th>\n",
       "      <th>CustomerID</th>\n",
       "      <th>Country</th>\n",
       "    </tr>\n",
       "  </thead>\n",
       "  <tbody>\n",
       "    <tr>\n",
       "      <th>0</th>\n",
       "      <td>542401</td>\n",
       "      <td>22502</td>\n",
       "      <td>PICNIC BASKET WICKER SMALL</td>\n",
       "      <td>2</td>\n",
       "      <td>2011-01-27 15:51:00</td>\n",
       "      <td>5.95</td>\n",
       "      <td>14541.0</td>\n",
       "      <td>United Kingdom</td>\n",
       "    </tr>\n",
       "    <tr>\n",
       "      <th>1</th>\n",
       "      <td>542231</td>\n",
       "      <td>22726</td>\n",
       "      <td>ALARM CLOCK BAKELIKE GREEN</td>\n",
       "      <td>2</td>\n",
       "      <td>2011-01-26 13:40:00</td>\n",
       "      <td>3.75</td>\n",
       "      <td>16714.0</td>\n",
       "      <td>United Kingdom</td>\n",
       "    </tr>\n",
       "    <tr>\n",
       "      <th>2</th>\n",
       "      <td>556956</td>\n",
       "      <td>22090</td>\n",
       "      <td>PAPER BUNTING RETROSPOT</td>\n",
       "      <td>40</td>\n",
       "      <td>2011-06-16 09:04:00</td>\n",
       "      <td>2.55</td>\n",
       "      <td>13694.0</td>\n",
       "      <td>United Kingdom</td>\n",
       "    </tr>\n",
       "    <tr>\n",
       "      <th>3</th>\n",
       "      <td>573874</td>\n",
       "      <td>23581</td>\n",
       "      <td>JUMBO BAG PAISLEY PARK</td>\n",
       "      <td>10</td>\n",
       "      <td>2011-11-01 12:45:00</td>\n",
       "      <td>2.08</td>\n",
       "      <td>13868.0</td>\n",
       "      <td>United Kingdom</td>\n",
       "    </tr>\n",
       "    <tr>\n",
       "      <th>4</th>\n",
       "      <td>580742</td>\n",
       "      <td>23343</td>\n",
       "      <td>JUMBO BAG VINTAGE CHRISTMAS</td>\n",
       "      <td>200</td>\n",
       "      <td>2011-12-06 09:30:00</td>\n",
       "      <td>1.75</td>\n",
       "      <td>13694.0</td>\n",
       "      <td>United Kingdom</td>\n",
       "    </tr>\n",
       "  </tbody>\n",
       "</table>\n",
       "</div>"
      ],
      "text/plain": [
       "  InvoiceNo StockCode                   Description  Quantity  \\\n",
       "0    542401     22502    PICNIC BASKET WICKER SMALL         2   \n",
       "1    542231     22726    ALARM CLOCK BAKELIKE GREEN         2   \n",
       "2    556956     22090       PAPER BUNTING RETROSPOT        40   \n",
       "3    573874     23581        JUMBO BAG PAISLEY PARK        10   \n",
       "4    580742     23343  JUMBO BAG VINTAGE CHRISTMAS        200   \n",
       "\n",
       "          InvoiceDate  UnitPrice  CustomerID         Country  \n",
       "0 2011-01-27 15:51:00       5.95     14541.0  United Kingdom  \n",
       "1 2011-01-26 13:40:00       3.75     16714.0  United Kingdom  \n",
       "2 2011-06-16 09:04:00       2.55     13694.0  United Kingdom  \n",
       "3 2011-11-01 12:45:00       2.08     13868.0  United Kingdom  \n",
       "4 2011-12-06 09:30:00       1.75     13694.0  United Kingdom  "
      ]
     },
     "execution_count": 86,
     "metadata": {},
     "output_type": "execute_result"
    }
   ],
   "source": [
    "# use a subset of full data\n",
    "np.random.seed(306)\n",
    "online = online.sample(frac = .3).reset_index(drop = True)\n",
    "online.head()"
   ]
  },
  {
   "cell_type": "code",
   "execution_count": 87,
   "metadata": {},
   "outputs": [
    {
     "data": {
      "text/html": [
       "<div>\n",
       "<style scoped>\n",
       "    .dataframe tbody tr th:only-of-type {\n",
       "        vertical-align: middle;\n",
       "    }\n",
       "\n",
       "    .dataframe tbody tr th {\n",
       "        vertical-align: top;\n",
       "    }\n",
       "\n",
       "    .dataframe thead th {\n",
       "        text-align: right;\n",
       "    }\n",
       "</style>\n",
       "<table border=\"1\" class=\"dataframe\">\n",
       "  <thead>\n",
       "    <tr style=\"text-align: right;\">\n",
       "      <th></th>\n",
       "      <th>InvoiceNo</th>\n",
       "      <th>StockCode</th>\n",
       "      <th>Description</th>\n",
       "      <th>Quantity</th>\n",
       "      <th>InvoiceDate</th>\n",
       "      <th>UnitPrice</th>\n",
       "      <th>CustomerID</th>\n",
       "      <th>Country</th>\n",
       "      <th>InvoiceDay</th>\n",
       "    </tr>\n",
       "  </thead>\n",
       "  <tbody>\n",
       "    <tr>\n",
       "      <th>0</th>\n",
       "      <td>542401</td>\n",
       "      <td>22502</td>\n",
       "      <td>PICNIC BASKET WICKER SMALL</td>\n",
       "      <td>2</td>\n",
       "      <td>2011-01-27 15:51:00</td>\n",
       "      <td>5.95</td>\n",
       "      <td>14541.0</td>\n",
       "      <td>United Kingdom</td>\n",
       "      <td>2011-01-27</td>\n",
       "    </tr>\n",
       "    <tr>\n",
       "      <th>1</th>\n",
       "      <td>542231</td>\n",
       "      <td>22726</td>\n",
       "      <td>ALARM CLOCK BAKELIKE GREEN</td>\n",
       "      <td>2</td>\n",
       "      <td>2011-01-26 13:40:00</td>\n",
       "      <td>3.75</td>\n",
       "      <td>16714.0</td>\n",
       "      <td>United Kingdom</td>\n",
       "      <td>2011-01-26</td>\n",
       "    </tr>\n",
       "    <tr>\n",
       "      <th>2</th>\n",
       "      <td>556956</td>\n",
       "      <td>22090</td>\n",
       "      <td>PAPER BUNTING RETROSPOT</td>\n",
       "      <td>40</td>\n",
       "      <td>2011-06-16 09:04:00</td>\n",
       "      <td>2.55</td>\n",
       "      <td>13694.0</td>\n",
       "      <td>United Kingdom</td>\n",
       "      <td>2011-06-16</td>\n",
       "    </tr>\n",
       "    <tr>\n",
       "      <th>3</th>\n",
       "      <td>573874</td>\n",
       "      <td>23581</td>\n",
       "      <td>JUMBO BAG PAISLEY PARK</td>\n",
       "      <td>10</td>\n",
       "      <td>2011-11-01 12:45:00</td>\n",
       "      <td>2.08</td>\n",
       "      <td>13868.0</td>\n",
       "      <td>United Kingdom</td>\n",
       "      <td>2011-11-01</td>\n",
       "    </tr>\n",
       "    <tr>\n",
       "      <th>4</th>\n",
       "      <td>580742</td>\n",
       "      <td>23343</td>\n",
       "      <td>JUMBO BAG VINTAGE CHRISTMAS</td>\n",
       "      <td>200</td>\n",
       "      <td>2011-12-06 09:30:00</td>\n",
       "      <td>1.75</td>\n",
       "      <td>13694.0</td>\n",
       "      <td>United Kingdom</td>\n",
       "      <td>2011-12-06</td>\n",
       "    </tr>\n",
       "  </tbody>\n",
       "</table>\n",
       "</div>"
      ],
      "text/plain": [
       "  InvoiceNo StockCode                   Description  Quantity  \\\n",
       "0    542401     22502    PICNIC BASKET WICKER SMALL         2   \n",
       "1    542231     22726    ALARM CLOCK BAKELIKE GREEN         2   \n",
       "2    556956     22090       PAPER BUNTING RETROSPOT        40   \n",
       "3    573874     23581        JUMBO BAG PAISLEY PARK        10   \n",
       "4    580742     23343  JUMBO BAG VINTAGE CHRISTMAS        200   \n",
       "\n",
       "          InvoiceDate  UnitPrice  CustomerID         Country InvoiceDay  \n",
       "0 2011-01-27 15:51:00       5.95     14541.0  United Kingdom 2011-01-27  \n",
       "1 2011-01-26 13:40:00       3.75     16714.0  United Kingdom 2011-01-26  \n",
       "2 2011-06-16 09:04:00       2.55     13694.0  United Kingdom 2011-06-16  \n",
       "3 2011-11-01 12:45:00       2.08     13868.0  United Kingdom 2011-11-01  \n",
       "4 2011-12-06 09:30:00       1.75     13694.0  United Kingdom 2011-12-06  "
      ]
     },
     "execution_count": 87,
     "metadata": {},
     "output_type": "execute_result"
    }
   ],
   "source": [
    "# extract year, month and day \n",
    "online['InvoiceDay'] = online.InvoiceDate.apply(lambda x: dt.datetime(x.year, x.month, x.day))\n",
    "online.head()"
   ]
  },
  {
   "cell_type": "code",
   "execution_count": 88,
   "metadata": {},
   "outputs": [
    {
     "data": {
      "text/plain": [
       "4222"
      ]
     },
     "execution_count": 88,
     "metadata": {},
     "output_type": "execute_result"
    }
   ],
   "source": [
    "# the number of customers\n",
    "online.CustomerID.nunique()"
   ]
  },
  {
   "cell_type": "markdown",
   "metadata": {},
   "source": [
    "## 2. RFM values"
   ]
  },
  {
   "cell_type": "markdown",
   "metadata": {},
   "source": [
    "RFM (Recency, Frequency, Monetary) is a very Simple Technique that we can apply it very easy and get the super useful analysis for our Customer Segmentation. Recency is days since the customers made the last purchase and by definition, the lower it is the better. Frequency is the number of transaction in the last 12 months. Monetary value is the total amout of money the customers spent in the last 12 months."
   ]
  },
  {
   "cell_type": "code",
   "execution_count": 89,
   "metadata": {},
   "outputs": [
    {
     "data": {
      "text/html": [
       "<div>\n",
       "<style scoped>\n",
       "    .dataframe tbody tr th:only-of-type {\n",
       "        vertical-align: middle;\n",
       "    }\n",
       "\n",
       "    .dataframe tbody tr th {\n",
       "        vertical-align: top;\n",
       "    }\n",
       "\n",
       "    .dataframe thead th {\n",
       "        text-align: right;\n",
       "    }\n",
       "</style>\n",
       "<table border=\"1\" class=\"dataframe\">\n",
       "  <thead>\n",
       "    <tr style=\"text-align: right;\">\n",
       "      <th></th>\n",
       "      <th>InvoiceNo</th>\n",
       "      <th>StockCode</th>\n",
       "      <th>Description</th>\n",
       "      <th>Quantity</th>\n",
       "      <th>InvoiceDate</th>\n",
       "      <th>UnitPrice</th>\n",
       "      <th>CustomerID</th>\n",
       "      <th>Country</th>\n",
       "      <th>InvoiceDay</th>\n",
       "    </tr>\n",
       "  </thead>\n",
       "  <tbody>\n",
       "    <tr>\n",
       "      <th>0</th>\n",
       "      <td>542401</td>\n",
       "      <td>22502</td>\n",
       "      <td>PICNIC BASKET WICKER SMALL</td>\n",
       "      <td>2</td>\n",
       "      <td>2011-01-27 15:51:00</td>\n",
       "      <td>5.95</td>\n",
       "      <td>14541.0</td>\n",
       "      <td>United Kingdom</td>\n",
       "      <td>2011-01-27</td>\n",
       "    </tr>\n",
       "    <tr>\n",
       "      <th>1</th>\n",
       "      <td>542231</td>\n",
       "      <td>22726</td>\n",
       "      <td>ALARM CLOCK BAKELIKE GREEN</td>\n",
       "      <td>2</td>\n",
       "      <td>2011-01-26 13:40:00</td>\n",
       "      <td>3.75</td>\n",
       "      <td>16714.0</td>\n",
       "      <td>United Kingdom</td>\n",
       "      <td>2011-01-26</td>\n",
       "    </tr>\n",
       "    <tr>\n",
       "      <th>2</th>\n",
       "      <td>556956</td>\n",
       "      <td>22090</td>\n",
       "      <td>PAPER BUNTING RETROSPOT</td>\n",
       "      <td>40</td>\n",
       "      <td>2011-06-16 09:04:00</td>\n",
       "      <td>2.55</td>\n",
       "      <td>13694.0</td>\n",
       "      <td>United Kingdom</td>\n",
       "      <td>2011-06-16</td>\n",
       "    </tr>\n",
       "    <tr>\n",
       "      <th>3</th>\n",
       "      <td>573874</td>\n",
       "      <td>23581</td>\n",
       "      <td>JUMBO BAG PAISLEY PARK</td>\n",
       "      <td>10</td>\n",
       "      <td>2011-11-01 12:45:00</td>\n",
       "      <td>2.08</td>\n",
       "      <td>13868.0</td>\n",
       "      <td>United Kingdom</td>\n",
       "      <td>2011-11-01</td>\n",
       "    </tr>\n",
       "    <tr>\n",
       "      <th>4</th>\n",
       "      <td>580742</td>\n",
       "      <td>23343</td>\n",
       "      <td>JUMBO BAG VINTAGE CHRISTMAS</td>\n",
       "      <td>200</td>\n",
       "      <td>2011-12-06 09:30:00</td>\n",
       "      <td>1.75</td>\n",
       "      <td>13694.0</td>\n",
       "      <td>United Kingdom</td>\n",
       "      <td>2011-12-06</td>\n",
       "    </tr>\n",
       "  </tbody>\n",
       "</table>\n",
       "</div>"
      ],
      "text/plain": [
       "  InvoiceNo StockCode                   Description  Quantity  \\\n",
       "0    542401     22502    PICNIC BASKET WICKER SMALL         2   \n",
       "1    542231     22726    ALARM CLOCK BAKELIKE GREEN         2   \n",
       "2    556956     22090       PAPER BUNTING RETROSPOT        40   \n",
       "3    573874     23581        JUMBO BAG PAISLEY PARK        10   \n",
       "4    580742     23343  JUMBO BAG VINTAGE CHRISTMAS        200   \n",
       "\n",
       "          InvoiceDate  UnitPrice  CustomerID         Country InvoiceDay  \n",
       "0 2011-01-27 15:51:00       5.95     14541.0  United Kingdom 2011-01-27  \n",
       "1 2011-01-26 13:40:00       3.75     16714.0  United Kingdom 2011-01-26  \n",
       "2 2011-06-16 09:04:00       2.55     13694.0  United Kingdom 2011-06-16  \n",
       "3 2011-11-01 12:45:00       2.08     13868.0  United Kingdom 2011-11-01  \n",
       "4 2011-12-06 09:30:00       1.75     13694.0  United Kingdom 2011-12-06  "
      ]
     },
     "execution_count": 89,
     "metadata": {},
     "output_type": "execute_result"
    }
   ],
   "source": [
    "online.head()"
   ]
  },
  {
   "cell_type": "markdown",
   "metadata": {},
   "source": [
    "The last day of purchase in total is 09 DEC, 2011. To calculate the day periods, let's set one day after the last one, or 10 DEC as a pin date. We will cound the diff days with pin_date."
   ]
  },
  {
   "cell_type": "code",
   "execution_count": 90,
   "metadata": {},
   "outputs": [
    {
     "name": "stdout",
     "output_type": "stream",
     "text": [
      "Min : 2010-12-01 00:00:00, Max : 2011-12-09 00:00:00\n"
     ]
    }
   ],
   "source": [
    "print('Min : {}, Max : {}'.format(min(online.InvoiceDay), max(online.InvoiceDay)))"
   ]
  },
  {
   "cell_type": "code",
   "execution_count": 91,
   "metadata": {},
   "outputs": [],
   "source": [
    "pin_date = max(online.InvoiceDay) + dt.timedelta(1)"
   ]
  },
  {
   "cell_type": "code",
   "execution_count": 92,
   "metadata": {},
   "outputs": [
    {
     "data": {
      "text/html": [
       "<div>\n",
       "<style scoped>\n",
       "    .dataframe tbody tr th:only-of-type {\n",
       "        vertical-align: middle;\n",
       "    }\n",
       "\n",
       "    .dataframe tbody tr th {\n",
       "        vertical-align: top;\n",
       "    }\n",
       "\n",
       "    .dataframe thead th {\n",
       "        text-align: right;\n",
       "    }\n",
       "</style>\n",
       "<table border=\"1\" class=\"dataframe\">\n",
       "  <thead>\n",
       "    <tr style=\"text-align: right;\">\n",
       "      <th></th>\n",
       "      <th>InvoiceNo</th>\n",
       "      <th>StockCode</th>\n",
       "      <th>Description</th>\n",
       "      <th>Quantity</th>\n",
       "      <th>InvoiceDate</th>\n",
       "      <th>UnitPrice</th>\n",
       "      <th>CustomerID</th>\n",
       "      <th>Country</th>\n",
       "      <th>InvoiceDay</th>\n",
       "      <th>TotalSum</th>\n",
       "    </tr>\n",
       "  </thead>\n",
       "  <tbody>\n",
       "    <tr>\n",
       "      <th>0</th>\n",
       "      <td>542401</td>\n",
       "      <td>22502</td>\n",
       "      <td>PICNIC BASKET WICKER SMALL</td>\n",
       "      <td>2</td>\n",
       "      <td>2011-01-27 15:51:00</td>\n",
       "      <td>5.95</td>\n",
       "      <td>14541.0</td>\n",
       "      <td>United Kingdom</td>\n",
       "      <td>2011-01-27</td>\n",
       "      <td>11.9</td>\n",
       "    </tr>\n",
       "    <tr>\n",
       "      <th>1</th>\n",
       "      <td>542231</td>\n",
       "      <td>22726</td>\n",
       "      <td>ALARM CLOCK BAKELIKE GREEN</td>\n",
       "      <td>2</td>\n",
       "      <td>2011-01-26 13:40:00</td>\n",
       "      <td>3.75</td>\n",
       "      <td>16714.0</td>\n",
       "      <td>United Kingdom</td>\n",
       "      <td>2011-01-26</td>\n",
       "      <td>7.5</td>\n",
       "    </tr>\n",
       "    <tr>\n",
       "      <th>2</th>\n",
       "      <td>556956</td>\n",
       "      <td>22090</td>\n",
       "      <td>PAPER BUNTING RETROSPOT</td>\n",
       "      <td>40</td>\n",
       "      <td>2011-06-16 09:04:00</td>\n",
       "      <td>2.55</td>\n",
       "      <td>13694.0</td>\n",
       "      <td>United Kingdom</td>\n",
       "      <td>2011-06-16</td>\n",
       "      <td>102.0</td>\n",
       "    </tr>\n",
       "    <tr>\n",
       "      <th>3</th>\n",
       "      <td>573874</td>\n",
       "      <td>23581</td>\n",
       "      <td>JUMBO BAG PAISLEY PARK</td>\n",
       "      <td>10</td>\n",
       "      <td>2011-11-01 12:45:00</td>\n",
       "      <td>2.08</td>\n",
       "      <td>13868.0</td>\n",
       "      <td>United Kingdom</td>\n",
       "      <td>2011-11-01</td>\n",
       "      <td>20.8</td>\n",
       "    </tr>\n",
       "    <tr>\n",
       "      <th>4</th>\n",
       "      <td>580742</td>\n",
       "      <td>23343</td>\n",
       "      <td>JUMBO BAG VINTAGE CHRISTMAS</td>\n",
       "      <td>200</td>\n",
       "      <td>2011-12-06 09:30:00</td>\n",
       "      <td>1.75</td>\n",
       "      <td>13694.0</td>\n",
       "      <td>United Kingdom</td>\n",
       "      <td>2011-12-06</td>\n",
       "      <td>350.0</td>\n",
       "    </tr>\n",
       "  </tbody>\n",
       "</table>\n",
       "</div>"
      ],
      "text/plain": [
       "  InvoiceNo StockCode                   Description  Quantity  \\\n",
       "0    542401     22502    PICNIC BASKET WICKER SMALL         2   \n",
       "1    542231     22726    ALARM CLOCK BAKELIKE GREEN         2   \n",
       "2    556956     22090       PAPER BUNTING RETROSPOT        40   \n",
       "3    573874     23581        JUMBO BAG PAISLEY PARK        10   \n",
       "4    580742     23343  JUMBO BAG VINTAGE CHRISTMAS        200   \n",
       "\n",
       "          InvoiceDate  UnitPrice  CustomerID         Country InvoiceDay  \\\n",
       "0 2011-01-27 15:51:00       5.95     14541.0  United Kingdom 2011-01-27   \n",
       "1 2011-01-26 13:40:00       3.75     16714.0  United Kingdom 2011-01-26   \n",
       "2 2011-06-16 09:04:00       2.55     13694.0  United Kingdom 2011-06-16   \n",
       "3 2011-11-01 12:45:00       2.08     13868.0  United Kingdom 2011-11-01   \n",
       "4 2011-12-06 09:30:00       1.75     13694.0  United Kingdom 2011-12-06   \n",
       "\n",
       "   TotalSum  \n",
       "0      11.9  \n",
       "1       7.5  \n",
       "2     102.0  \n",
       "3      20.8  \n",
       "4     350.0  "
      ]
     },
     "execution_count": 92,
     "metadata": {},
     "output_type": "execute_result"
    }
   ],
   "source": [
    "# Create total spend dataframe\n",
    "online['TotalSum'] = online.Quantity * online.UnitPrice\n",
    "\n",
    "online.head()"
   ]
  },
  {
   "cell_type": "code",
   "execution_count": 93,
   "metadata": {},
   "outputs": [],
   "source": [
    "# calculate RFM values\n",
    "rfm = online.groupby('CustomerID').agg({\n",
    "    'InvoiceDate' : lambda x: (pin_date - x.max()).days,\n",
    "    'InvoiceNo' : 'count', \n",
    "    'TotalSum' : 'sum'})"
   ]
  },
  {
   "cell_type": "code",
   "execution_count": 94,
   "metadata": {},
   "outputs": [
    {
     "data": {
      "text/html": [
       "<div>\n",
       "<style scoped>\n",
       "    .dataframe tbody tr th:only-of-type {\n",
       "        vertical-align: middle;\n",
       "    }\n",
       "\n",
       "    .dataframe tbody tr th {\n",
       "        vertical-align: top;\n",
       "    }\n",
       "\n",
       "    .dataframe thead th {\n",
       "        text-align: right;\n",
       "    }\n",
       "</style>\n",
       "<table border=\"1\" class=\"dataframe\">\n",
       "  <thead>\n",
       "    <tr style=\"text-align: right;\">\n",
       "      <th></th>\n",
       "      <th>Recency</th>\n",
       "      <th>Frequency</th>\n",
       "      <th>Monetary</th>\n",
       "    </tr>\n",
       "    <tr>\n",
       "      <th>CustomerID</th>\n",
       "      <th></th>\n",
       "      <th></th>\n",
       "      <th></th>\n",
       "    </tr>\n",
       "  </thead>\n",
       "  <tbody>\n",
       "    <tr>\n",
       "      <th>12347.0</th>\n",
       "      <td>2</td>\n",
       "      <td>45</td>\n",
       "      <td>980.10</td>\n",
       "    </tr>\n",
       "    <tr>\n",
       "      <th>12348.0</th>\n",
       "      <td>248</td>\n",
       "      <td>9</td>\n",
       "      <td>728.88</td>\n",
       "    </tr>\n",
       "    <tr>\n",
       "      <th>12349.0</th>\n",
       "      <td>18</td>\n",
       "      <td>25</td>\n",
       "      <td>486.87</td>\n",
       "    </tr>\n",
       "    <tr>\n",
       "      <th>12350.0</th>\n",
       "      <td>310</td>\n",
       "      <td>3</td>\n",
       "      <td>45.70</td>\n",
       "    </tr>\n",
       "    <tr>\n",
       "      <th>12352.0</th>\n",
       "      <td>36</td>\n",
       "      <td>32</td>\n",
       "      <td>1353.48</td>\n",
       "    </tr>\n",
       "  </tbody>\n",
       "</table>\n",
       "</div>"
      ],
      "text/plain": [
       "            Recency  Frequency  Monetary\n",
       "CustomerID                              \n",
       "12347.0           2         45    980.10\n",
       "12348.0         248          9    728.88\n",
       "12349.0          18         25    486.87\n",
       "12350.0         310          3     45.70\n",
       "12352.0          36         32   1353.48"
      ]
     },
     "execution_count": 94,
     "metadata": {},
     "output_type": "execute_result"
    }
   ],
   "source": [
    "# renmae the columns\n",
    "rfm.rename(columns = {'InvoiceDate' : 'Recency', \n",
    "                      'InvoiceNo' : 'Frequency', \n",
    "                      'TotalSum' : 'Monetary'}, inplace = True)\n",
    "\n",
    "rfm.head()"
   ]
  },
  {
   "cell_type": "markdown",
   "metadata": {},
   "source": [
    "As the three columns are grouped by customers and count the days from the max date value, `Recency` is the days since the last purchase of a customer. `Frequency` is the number of purchases of a customer and `Monetary` is the total amount of spend of a customer.  "
   ]
  },
  {
   "cell_type": "markdown",
   "metadata": {},
   "source": [
    "## 3. RFM quartiles "
   ]
  },
  {
   "cell_type": "markdown",
   "metadata": {},
   "source": [
    "Let's group the customers based on `Recency` and `Frequency`. We will use quantile values to get three equal percentile groups an then make three separate gruops. As the lower `Recency` value is the better, we will label them in decreasing order.      "
   ]
  },
  {
   "cell_type": "code",
   "execution_count": 95,
   "metadata": {},
   "outputs": [
    {
     "data": {
      "text/plain": [
       "CustomerID\n",
       "12347.0    4\n",
       "12348.0    4\n",
       "12349.0    3\n",
       "12350.0    1\n",
       "12352.0    4\n",
       "Name: Monetary, dtype: category\n",
       "Categories (4, int64): [1 < 2 < 3 < 4]"
      ]
     },
     "execution_count": 95,
     "metadata": {},
     "output_type": "execute_result"
    }
   ],
   "source": [
    "# create labels and assign them to tree percntile groups \n",
    "r_labels = range(4, 0, -1)\n",
    "r_groups = pd.qcut(rfm.Recency, q = 4, labels = r_labels)\n",
    "\n",
    "f_labels = range(1, 5)\n",
    "f_groups = pd.qcut(rfm.Frequency, q = 4, labels = f_labels)\n",
    "\n",
    "m_labels = range(1, 5)\n",
    "m_groups = pd.qcut(rfm.Monetary, q = 4, labels = m_labels)\n",
    "\n",
    "m_groups.head()"
   ]
  },
  {
   "cell_type": "code",
   "execution_count": 96,
   "metadata": {},
   "outputs": [],
   "source": [
    "# make a new column for group labels\n",
    "rfm['R'] = r_groups.values\n",
    "rfm['F'] = f_groups.values\n",
    "rfm['M'] = m_groups.values"
   ]
  },
  {
   "cell_type": "code",
   "execution_count": 97,
   "metadata": {},
   "outputs": [
    {
     "data": {
      "text/html": [
       "<div>\n",
       "<style scoped>\n",
       "    .dataframe tbody tr th:only-of-type {\n",
       "        vertical-align: middle;\n",
       "    }\n",
       "\n",
       "    .dataframe tbody tr th {\n",
       "        vertical-align: top;\n",
       "    }\n",
       "\n",
       "    .dataframe thead th {\n",
       "        text-align: right;\n",
       "    }\n",
       "</style>\n",
       "<table border=\"1\" class=\"dataframe\">\n",
       "  <thead>\n",
       "    <tr style=\"text-align: right;\">\n",
       "      <th></th>\n",
       "      <th>Recency</th>\n",
       "      <th>Frequency</th>\n",
       "      <th>Monetary</th>\n",
       "      <th>R</th>\n",
       "      <th>F</th>\n",
       "      <th>M</th>\n",
       "      <th>RFM_Segment</th>\n",
       "      <th>RFM_Score</th>\n",
       "    </tr>\n",
       "    <tr>\n",
       "      <th>CustomerID</th>\n",
       "      <th></th>\n",
       "      <th></th>\n",
       "      <th></th>\n",
       "      <th></th>\n",
       "      <th></th>\n",
       "      <th></th>\n",
       "      <th></th>\n",
       "      <th></th>\n",
       "    </tr>\n",
       "  </thead>\n",
       "  <tbody>\n",
       "    <tr>\n",
       "      <th>12347.0</th>\n",
       "      <td>2</td>\n",
       "      <td>45</td>\n",
       "      <td>980.10</td>\n",
       "      <td>4</td>\n",
       "      <td>4</td>\n",
       "      <td>4</td>\n",
       "      <td>444</td>\n",
       "      <td>12.0</td>\n",
       "    </tr>\n",
       "    <tr>\n",
       "      <th>12348.0</th>\n",
       "      <td>248</td>\n",
       "      <td>9</td>\n",
       "      <td>728.88</td>\n",
       "      <td>1</td>\n",
       "      <td>2</td>\n",
       "      <td>4</td>\n",
       "      <td>124</td>\n",
       "      <td>7.0</td>\n",
       "    </tr>\n",
       "    <tr>\n",
       "      <th>12349.0</th>\n",
       "      <td>18</td>\n",
       "      <td>25</td>\n",
       "      <td>486.87</td>\n",
       "      <td>3</td>\n",
       "      <td>3</td>\n",
       "      <td>3</td>\n",
       "      <td>333</td>\n",
       "      <td>9.0</td>\n",
       "    </tr>\n",
       "    <tr>\n",
       "      <th>12350.0</th>\n",
       "      <td>310</td>\n",
       "      <td>3</td>\n",
       "      <td>45.70</td>\n",
       "      <td>1</td>\n",
       "      <td>1</td>\n",
       "      <td>1</td>\n",
       "      <td>111</td>\n",
       "      <td>3.0</td>\n",
       "    </tr>\n",
       "    <tr>\n",
       "      <th>12352.0</th>\n",
       "      <td>36</td>\n",
       "      <td>32</td>\n",
       "      <td>1353.48</td>\n",
       "      <td>3</td>\n",
       "      <td>3</td>\n",
       "      <td>4</td>\n",
       "      <td>334</td>\n",
       "      <td>10.0</td>\n",
       "    </tr>\n",
       "  </tbody>\n",
       "</table>\n",
       "</div>"
      ],
      "text/plain": [
       "            Recency  Frequency  Monetary  R  F  M RFM_Segment  RFM_Score\n",
       "CustomerID                                                              \n",
       "12347.0           2         45    980.10  4  4  4         444       12.0\n",
       "12348.0         248          9    728.88  1  2  4         124        7.0\n",
       "12349.0          18         25    486.87  3  3  3         333        9.0\n",
       "12350.0         310          3     45.70  1  1  1         111        3.0\n",
       "12352.0          36         32   1353.48  3  3  4         334       10.0"
      ]
     },
     "execution_count": 97,
     "metadata": {},
     "output_type": "execute_result"
    }
   ],
   "source": [
    "# sum up the three columns\n",
    "rfm['RFM_Segment'] = rfm.apply(lambda x: str(x['R']) + str(x['F']) + str(x['M']), axis = 1)\n",
    "rfm['RFM_Score'] = rfm[['R', 'F', 'M']].sum(axis = 1)\n",
    "rfm.head() "
   ]
  },
  {
   "cell_type": "markdown",
   "metadata": {},
   "source": [
    "With this value, we can go further analysis such as what is the average values for each RFM values or leveling\n",
    "customers in total RFM score."
   ]
  },
  {
   "cell_type": "code",
   "execution_count": 98,
   "metadata": {},
   "outputs": [
    {
     "data": {
      "text/html": [
       "<div>\n",
       "<style scoped>\n",
       "    .dataframe tbody tr th:only-of-type {\n",
       "        vertical-align: middle;\n",
       "    }\n",
       "\n",
       "    .dataframe tbody tr th {\n",
       "        vertical-align: top;\n",
       "    }\n",
       "\n",
       "    .dataframe thead tr th {\n",
       "        text-align: left;\n",
       "    }\n",
       "\n",
       "    .dataframe thead tr:last-of-type th {\n",
       "        text-align: right;\n",
       "    }\n",
       "</style>\n",
       "<table border=\"1\" class=\"dataframe\">\n",
       "  <thead>\n",
       "    <tr>\n",
       "      <th></th>\n",
       "      <th>Recency</th>\n",
       "      <th>Frequency</th>\n",
       "      <th colspan=\"2\" halign=\"left\">Monetary</th>\n",
       "    </tr>\n",
       "    <tr>\n",
       "      <th></th>\n",
       "      <th>mean</th>\n",
       "      <th>mean</th>\n",
       "      <th>mean</th>\n",
       "      <th>count</th>\n",
       "    </tr>\n",
       "    <tr>\n",
       "      <th>RFM_Score</th>\n",
       "      <th></th>\n",
       "      <th></th>\n",
       "      <th></th>\n",
       "      <th></th>\n",
       "    </tr>\n",
       "  </thead>\n",
       "  <tbody>\n",
       "    <tr>\n",
       "      <th>3.0</th>\n",
       "      <td>258.3</td>\n",
       "      <td>2.9</td>\n",
       "      <td>-57.5</td>\n",
       "      <td>409</td>\n",
       "    </tr>\n",
       "    <tr>\n",
       "      <th>4.0</th>\n",
       "      <td>172.1</td>\n",
       "      <td>4.5</td>\n",
       "      <td>60.0</td>\n",
       "      <td>372</td>\n",
       "    </tr>\n",
       "    <tr>\n",
       "      <th>5.0</th>\n",
       "      <td>143.5</td>\n",
       "      <td>6.5</td>\n",
       "      <td>106.5</td>\n",
       "      <td>495</td>\n",
       "    </tr>\n",
       "    <tr>\n",
       "      <th>6.0</th>\n",
       "      <td>104.0</td>\n",
       "      <td>9.3</td>\n",
       "      <td>191.8</td>\n",
       "      <td>471</td>\n",
       "    </tr>\n",
       "    <tr>\n",
       "      <th>7.0</th>\n",
       "      <td>81.3</td>\n",
       "      <td>13.0</td>\n",
       "      <td>237.5</td>\n",
       "      <td>418</td>\n",
       "    </tr>\n",
       "  </tbody>\n",
       "</table>\n",
       "</div>"
      ],
      "text/plain": [
       "          Recency Frequency Monetary      \n",
       "             mean      mean     mean count\n",
       "RFM_Score                                 \n",
       "3.0         258.3       2.9    -57.5   409\n",
       "4.0         172.1       4.5     60.0   372\n",
       "5.0         143.5       6.5    106.5   495\n",
       "6.0         104.0       9.3    191.8   471\n",
       "7.0          81.3      13.0    237.5   418"
      ]
     },
     "execution_count": 98,
     "metadata": {},
     "output_type": "execute_result"
    }
   ],
   "source": [
    "# calculate averae values for each RFM_score\n",
    "rfm_agg = rfm.groupby('RFM_Score').agg({\n",
    "    'Recency' : 'mean',\n",
    "    'Frequency' : 'mean',\n",
    "    'Monetary' : ['mean', 'count']\n",
    "})\n",
    "\n",
    "rfm_agg.round(1).head()"
   ]
  },
  {
   "cell_type": "markdown",
   "metadata": {},
   "source": [
    "The final score will be the aggregated value of RFM and we can make groups based on the `RFM_Score`"
   ]
  },
  {
   "cell_type": "code",
   "execution_count": 99,
   "metadata": {
    "scrolled": true
   },
   "outputs": [
    {
     "data": {
      "text/html": [
       "<div>\n",
       "<style scoped>\n",
       "    .dataframe tbody tr th:only-of-type {\n",
       "        vertical-align: middle;\n",
       "    }\n",
       "\n",
       "    .dataframe tbody tr th {\n",
       "        vertical-align: top;\n",
       "    }\n",
       "\n",
       "    .dataframe thead th {\n",
       "        text-align: right;\n",
       "    }\n",
       "</style>\n",
       "<table border=\"1\" class=\"dataframe\">\n",
       "  <thead>\n",
       "    <tr style=\"text-align: right;\">\n",
       "      <th></th>\n",
       "      <th>Recency</th>\n",
       "      <th>Frequency</th>\n",
       "      <th>Monetary</th>\n",
       "      <th>R</th>\n",
       "      <th>F</th>\n",
       "      <th>M</th>\n",
       "      <th>RFM_Segment</th>\n",
       "      <th>RFM_Score</th>\n",
       "      <th>RFM_Level</th>\n",
       "    </tr>\n",
       "    <tr>\n",
       "      <th>CustomerID</th>\n",
       "      <th></th>\n",
       "      <th></th>\n",
       "      <th></th>\n",
       "      <th></th>\n",
       "      <th></th>\n",
       "      <th></th>\n",
       "      <th></th>\n",
       "      <th></th>\n",
       "      <th></th>\n",
       "    </tr>\n",
       "  </thead>\n",
       "  <tbody>\n",
       "    <tr>\n",
       "      <th>12347.0</th>\n",
       "      <td>2</td>\n",
       "      <td>45</td>\n",
       "      <td>980.10</td>\n",
       "      <td>4</td>\n",
       "      <td>4</td>\n",
       "      <td>4</td>\n",
       "      <td>444</td>\n",
       "      <td>12.0</td>\n",
       "      <td>Gold</td>\n",
       "    </tr>\n",
       "    <tr>\n",
       "      <th>12348.0</th>\n",
       "      <td>248</td>\n",
       "      <td>9</td>\n",
       "      <td>728.88</td>\n",
       "      <td>1</td>\n",
       "      <td>2</td>\n",
       "      <td>4</td>\n",
       "      <td>124</td>\n",
       "      <td>7.0</td>\n",
       "      <td>Broze</td>\n",
       "    </tr>\n",
       "    <tr>\n",
       "      <th>12349.0</th>\n",
       "      <td>18</td>\n",
       "      <td>25</td>\n",
       "      <td>486.87</td>\n",
       "      <td>3</td>\n",
       "      <td>3</td>\n",
       "      <td>3</td>\n",
       "      <td>333</td>\n",
       "      <td>9.0</td>\n",
       "      <td>Silver</td>\n",
       "    </tr>\n",
       "    <tr>\n",
       "      <th>12350.0</th>\n",
       "      <td>310</td>\n",
       "      <td>3</td>\n",
       "      <td>45.70</td>\n",
       "      <td>1</td>\n",
       "      <td>1</td>\n",
       "      <td>1</td>\n",
       "      <td>111</td>\n",
       "      <td>3.0</td>\n",
       "      <td>Green</td>\n",
       "    </tr>\n",
       "    <tr>\n",
       "      <th>12352.0</th>\n",
       "      <td>36</td>\n",
       "      <td>32</td>\n",
       "      <td>1353.48</td>\n",
       "      <td>3</td>\n",
       "      <td>3</td>\n",
       "      <td>4</td>\n",
       "      <td>334</td>\n",
       "      <td>10.0</td>\n",
       "      <td>Silver</td>\n",
       "    </tr>\n",
       "  </tbody>\n",
       "</table>\n",
       "</div>"
      ],
      "text/plain": [
       "            Recency  Frequency  Monetary  R  F  M RFM_Segment  RFM_Score  \\\n",
       "CustomerID                                                                 \n",
       "12347.0           2         45    980.10  4  4  4         444       12.0   \n",
       "12348.0         248          9    728.88  1  2  4         124        7.0   \n",
       "12349.0          18         25    486.87  3  3  3         333        9.0   \n",
       "12350.0         310          3     45.70  1  1  1         111        3.0   \n",
       "12352.0          36         32   1353.48  3  3  4         334       10.0   \n",
       "\n",
       "           RFM_Level  \n",
       "CustomerID            \n",
       "12347.0         Gold  \n",
       "12348.0        Broze  \n",
       "12349.0       Silver  \n",
       "12350.0        Green  \n",
       "12352.0       Silver  "
      ]
     },
     "execution_count": 99,
     "metadata": {},
     "output_type": "execute_result"
    }
   ],
   "source": [
    "# assign labels from total score\n",
    "score_labels = ['Green', 'Broze', 'Silver', 'Gold']\n",
    "score_groups = pd.qcut(rfm.RFM_Score, q = 4, labels = score_labels)\n",
    "rfm['RFM_Level'] = score_groups.values\n",
    "\n",
    "rfm.head()"
   ]
  },
  {
   "cell_type": "markdown",
   "metadata": {},
   "source": [
    "## 4. Customer Segmentation with Kmeans"
   ]
  },
  {
   "cell_type": "markdown",
   "metadata": {},
   "source": [
    "We can also apply Kmeans clustering with RFM values. As Kmeans clustering require data to be normalized and has a symmetric distribution, preprocessing process in scale is needed. "
   ]
  },
  {
   "cell_type": "markdown",
   "metadata": {},
   "source": [
    "### 4-1. Preprocessing "
   ]
  },
  {
   "cell_type": "code",
   "execution_count": 100,
   "metadata": {},
   "outputs": [
    {
     "name": "stderr",
     "output_type": "stream",
     "text": [
      "C:\\Users\\jjone\\Anaconda3\\lib\\site-packages\\scipy\\stats\\stats.py:1713: FutureWarning: Using a non-tuple sequence for multidimensional indexing is deprecated; use `arr[tuple(seq)]` instead of `arr[seq]`. In the future this will be interpreted as an array index, `arr[np.array(seq)]`, which will result either in an error or a different result.\n",
      "  return np.add.reduce(sorted[indexer] * weights, axis=axis) / sumval\n"
     ]
    },
    {
     "data": {
      "image/png": "[encoded data removed]",
      "text/plain": [
       "<Figure size 432x288 with 3 Axes>"
      ]
     },
     "metadata": {
      "needs_background": "light"
     },
     "output_type": "display_data"
    }
   ],
   "source": [
    "# plot the distribution of RFM values\n",
    "plt.subplot(3, 1, 1); sns.distplot(rfm.Recency)\n",
    "plt.subplot(3, 1, 2); sns.distplot(rfm.Frequency)\n",
    "plt.subplot(3, 1, 3); sns.distplot(rfm.Monetary)\n",
    "\n",
    "plt.show()"
   ]
  },
  {
   "cell_type": "markdown",
   "metadata": {},
   "source": [
    "As you can see above, the values are skewed and need to be normalized. Due to the zero or negative values in `Recency` and `MonetaryValue`, we need to set them 1 before log transformation and scaling."
   ]
  },
  {
   "cell_type": "code",
   "execution_count": 102,
   "metadata": {},
   "outputs": [],
   "source": [
    "# define function for the values below 0\n",
    "def neg_to_zero(x):\n",
    "    if x <= 0:\n",
    "        return 1\n",
    "    else:\n",
    "        return x"
   ]
  },
  {
   "cell_type": "code",
   "execution_count": 103,
   "metadata": {},
   "outputs": [
    {
     "data": {
      "text/html": [
       "<div>\n",
       "<style scoped>\n",
       "    .dataframe tbody tr th:only-of-type {\n",
       "        vertical-align: middle;\n",
       "    }\n",
       "\n",
       "    .dataframe tbody tr th {\n",
       "        vertical-align: top;\n",
       "    }\n",
       "\n",
       "    .dataframe thead th {\n",
       "        text-align: right;\n",
       "    }\n",
       "</style>\n",
       "<table border=\"1\" class=\"dataframe\">\n",
       "  <thead>\n",
       "    <tr style=\"text-align: right;\">\n",
       "      <th></th>\n",
       "      <th>Recency</th>\n",
       "      <th>Frequency</th>\n",
       "      <th>Monetary</th>\n",
       "      <th>R</th>\n",
       "      <th>F</th>\n",
       "      <th>M</th>\n",
       "      <th>RFM_Segment</th>\n",
       "      <th>RFM_Score</th>\n",
       "      <th>RFM_Level</th>\n",
       "    </tr>\n",
       "    <tr>\n",
       "      <th>CustomerID</th>\n",
       "      <th></th>\n",
       "      <th></th>\n",
       "      <th></th>\n",
       "      <th></th>\n",
       "      <th></th>\n",
       "      <th></th>\n",
       "      <th></th>\n",
       "      <th></th>\n",
       "      <th></th>\n",
       "    </tr>\n",
       "  </thead>\n",
       "  <tbody>\n",
       "    <tr>\n",
       "      <th>12347.0</th>\n",
       "      <td>2</td>\n",
       "      <td>45</td>\n",
       "      <td>980.10</td>\n",
       "      <td>4</td>\n",
       "      <td>4</td>\n",
       "      <td>4</td>\n",
       "      <td>444</td>\n",
       "      <td>12.0</td>\n",
       "      <td>Gold</td>\n",
       "    </tr>\n",
       "    <tr>\n",
       "      <th>12348.0</th>\n",
       "      <td>248</td>\n",
       "      <td>9</td>\n",
       "      <td>728.88</td>\n",
       "      <td>1</td>\n",
       "      <td>2</td>\n",
       "      <td>4</td>\n",
       "      <td>124</td>\n",
       "      <td>7.0</td>\n",
       "      <td>Broze</td>\n",
       "    </tr>\n",
       "    <tr>\n",
       "      <th>12349.0</th>\n",
       "      <td>18</td>\n",
       "      <td>25</td>\n",
       "      <td>486.87</td>\n",
       "      <td>3</td>\n",
       "      <td>3</td>\n",
       "      <td>3</td>\n",
       "      <td>333</td>\n",
       "      <td>9.0</td>\n",
       "      <td>Silver</td>\n",
       "    </tr>\n",
       "    <tr>\n",
       "      <th>12350.0</th>\n",
       "      <td>310</td>\n",
       "      <td>3</td>\n",
       "      <td>45.70</td>\n",
       "      <td>1</td>\n",
       "      <td>1</td>\n",
       "      <td>1</td>\n",
       "      <td>111</td>\n",
       "      <td>3.0</td>\n",
       "      <td>Green</td>\n",
       "    </tr>\n",
       "    <tr>\n",
       "      <th>12352.0</th>\n",
       "      <td>36</td>\n",
       "      <td>32</td>\n",
       "      <td>1353.48</td>\n",
       "      <td>3</td>\n",
       "      <td>3</td>\n",
       "      <td>4</td>\n",
       "      <td>334</td>\n",
       "      <td>10.0</td>\n",
       "      <td>Silver</td>\n",
       "    </tr>\n",
       "  </tbody>\n",
       "</table>\n",
       "</div>"
      ],
      "text/plain": [
       "            Recency  Frequency  Monetary  R  F  M RFM_Segment  RFM_Score  \\\n",
       "CustomerID                                                                 \n",
       "12347.0           2         45    980.10  4  4  4         444       12.0   \n",
       "12348.0         248          9    728.88  1  2  4         124        7.0   \n",
       "12349.0          18         25    486.87  3  3  3         333        9.0   \n",
       "12350.0         310          3     45.70  1  1  1         111        3.0   \n",
       "12352.0          36         32   1353.48  3  3  4         334       10.0   \n",
       "\n",
       "           RFM_Level  \n",
       "CustomerID            \n",
       "12347.0         Gold  \n",
       "12348.0        Broze  \n",
       "12349.0       Silver  \n",
       "12350.0        Green  \n",
       "12352.0       Silver  "
      ]
     },
     "execution_count": 103,
     "metadata": {},
     "output_type": "execute_result"
    }
   ],
   "source": [
    "# apply the function to Recency and MonetaryValue column \n",
    "rfm['Recency'] = [neg_to_zero(x) for x in rfm.Recency]\n",
    "rfm['Monetary'] = [neg_to_zero(x) for x in rfm.Monetary]\n",
    "rfm.head()"
   ]
  },
  {
   "cell_type": "code",
   "execution_count": 104,
   "metadata": {},
   "outputs": [
    {
     "data": {
      "text/html": [
       "<div>\n",
       "<style scoped>\n",
       "    .dataframe tbody tr th:only-of-type {\n",
       "        vertical-align: middle;\n",
       "    }\n",
       "\n",
       "    .dataframe tbody tr th {\n",
       "        vertical-align: top;\n",
       "    }\n",
       "\n",
       "    .dataframe thead th {\n",
       "        text-align: right;\n",
       "    }\n",
       "</style>\n",
       "<table border=\"1\" class=\"dataframe\">\n",
       "  <thead>\n",
       "    <tr style=\"text-align: right;\">\n",
       "      <th></th>\n",
       "      <th>Recency</th>\n",
       "      <th>Frequency</th>\n",
       "      <th>Monetary</th>\n",
       "    </tr>\n",
       "    <tr>\n",
       "      <th>CustomerID</th>\n",
       "      <th></th>\n",
       "      <th></th>\n",
       "      <th></th>\n",
       "    </tr>\n",
       "  </thead>\n",
       "  <tbody>\n",
       "    <tr>\n",
       "      <th>12347.0</th>\n",
       "      <td>0.693</td>\n",
       "      <td>3.807</td>\n",
       "      <td>6.888</td>\n",
       "    </tr>\n",
       "    <tr>\n",
       "      <th>12348.0</th>\n",
       "      <td>5.513</td>\n",
       "      <td>2.197</td>\n",
       "      <td>6.592</td>\n",
       "    </tr>\n",
       "    <tr>\n",
       "      <th>12349.0</th>\n",
       "      <td>2.890</td>\n",
       "      <td>3.219</td>\n",
       "      <td>6.188</td>\n",
       "    </tr>\n",
       "    <tr>\n",
       "      <th>12350.0</th>\n",
       "      <td>5.737</td>\n",
       "      <td>1.099</td>\n",
       "      <td>3.822</td>\n",
       "    </tr>\n",
       "    <tr>\n",
       "      <th>12352.0</th>\n",
       "      <td>3.584</td>\n",
       "      <td>3.466</td>\n",
       "      <td>7.210</td>\n",
       "    </tr>\n",
       "  </tbody>\n",
       "</table>\n",
       "</div>"
      ],
      "text/plain": [
       "            Recency  Frequency  Monetary\n",
       "CustomerID                              \n",
       "12347.0       0.693      3.807     6.888\n",
       "12348.0       5.513      2.197     6.592\n",
       "12349.0       2.890      3.219     6.188\n",
       "12350.0       5.737      1.099     3.822\n",
       "12352.0       3.584      3.466     7.210"
      ]
     },
     "execution_count": 104,
     "metadata": {},
     "output_type": "execute_result"
    }
   ],
   "source": [
    "# unskew the data\n",
    "rfm_log = rfm[['Recency', 'Frequency', 'Monetary']].apply(np.log, axis = 1).round(3)\n",
    "rfm_log.head()"
   ]
  },
  {
   "cell_type": "code",
   "execution_count": 105,
   "metadata": {},
   "outputs": [
    {
     "data": {
      "text/html": [
       "<div>\n",
       "<style scoped>\n",
       "    .dataframe tbody tr th:only-of-type {\n",
       "        vertical-align: middle;\n",
       "    }\n",
       "\n",
       "    .dataframe tbody tr th {\n",
       "        vertical-align: top;\n",
       "    }\n",
       "\n",
       "    .dataframe thead th {\n",
       "        text-align: right;\n",
       "    }\n",
       "</style>\n",
       "<table border=\"1\" class=\"dataframe\">\n",
       "  <thead>\n",
       "    <tr style=\"text-align: right;\">\n",
       "      <th></th>\n",
       "      <th>Recency</th>\n",
       "      <th>Frequency</th>\n",
       "      <th>Monetary</th>\n",
       "    </tr>\n",
       "  </thead>\n",
       "  <tbody>\n",
       "    <tr>\n",
       "      <th>count</th>\n",
       "      <td>4222.000000</td>\n",
       "      <td>4222.000000</td>\n",
       "      <td>4222.000000</td>\n",
       "    </tr>\n",
       "    <tr>\n",
       "      <th>mean</th>\n",
       "      <td>3.738968</td>\n",
       "      <td>2.566761</td>\n",
       "      <td>5.303256</td>\n",
       "    </tr>\n",
       "    <tr>\n",
       "      <th>std</th>\n",
       "      <td>1.486877</td>\n",
       "      <td>1.258514</td>\n",
       "      <td>1.428801</td>\n",
       "    </tr>\n",
       "    <tr>\n",
       "      <th>min</th>\n",
       "      <td>0.000000</td>\n",
       "      <td>0.000000</td>\n",
       "      <td>0.000000</td>\n",
       "    </tr>\n",
       "    <tr>\n",
       "      <th>25%</th>\n",
       "      <td>2.833000</td>\n",
       "      <td>1.792000</td>\n",
       "      <td>4.454500</td>\n",
       "    </tr>\n",
       "    <tr>\n",
       "      <th>50%</th>\n",
       "      <td>3.922000</td>\n",
       "      <td>2.565000</td>\n",
       "      <td>5.328500</td>\n",
       "    </tr>\n",
       "    <tr>\n",
       "      <th>75%</th>\n",
       "      <td>4.990000</td>\n",
       "      <td>3.466000</td>\n",
       "      <td>6.209750</td>\n",
       "    </tr>\n",
       "    <tr>\n",
       "      <th>max</th>\n",
       "      <td>5.922000</td>\n",
       "      <td>7.769000</td>\n",
       "      <td>11.313000</td>\n",
       "    </tr>\n",
       "  </tbody>\n",
       "</table>\n",
       "</div>"
      ],
      "text/plain": [
       "           Recency    Frequency     Monetary\n",
       "count  4222.000000  4222.000000  4222.000000\n",
       "mean      3.738968     2.566761     5.303256\n",
       "std       1.486877     1.258514     1.428801\n",
       "min       0.000000     0.000000     0.000000\n",
       "25%       2.833000     1.792000     4.454500\n",
       "50%       3.922000     2.565000     5.328500\n",
       "75%       4.990000     3.466000     6.209750\n",
       "max       5.922000     7.769000    11.313000"
      ]
     },
     "execution_count": 105,
     "metadata": {},
     "output_type": "execute_result"
    }
   ],
   "source": [
    "rfm_log.describe()"
   ]
  },
  {
   "cell_type": "code",
   "execution_count": 106,
   "metadata": {
    "scrolled": true
   },
   "outputs": [],
   "source": [
    "# scale the data\n",
    "scaler = StandardScaler()\n",
    "rfm_scaled = scaler.fit_transform(rfm_log)"
   ]
  },
  {
   "cell_type": "code",
   "execution_count": 107,
   "metadata": {},
   "outputs": [
    {
     "data": {
      "text/html": [
       "<div>\n",
       "<style scoped>\n",
       "    .dataframe tbody tr th:only-of-type {\n",
       "        vertical-align: middle;\n",
       "    }\n",
       "\n",
       "    .dataframe tbody tr th {\n",
       "        vertical-align: top;\n",
       "    }\n",
       "\n",
       "    .dataframe thead th {\n",
       "        text-align: right;\n",
       "    }\n",
       "</style>\n",
       "<table border=\"1\" class=\"dataframe\">\n",
       "  <thead>\n",
       "    <tr style=\"text-align: right;\">\n",
       "      <th></th>\n",
       "      <th>Recency</th>\n",
       "      <th>Frequency</th>\n",
       "      <th>Monetary</th>\n",
       "    </tr>\n",
       "    <tr>\n",
       "      <th>CustomerID</th>\n",
       "      <th></th>\n",
       "      <th></th>\n",
       "      <th></th>\n",
       "    </tr>\n",
       "  </thead>\n",
       "  <tbody>\n",
       "    <tr>\n",
       "      <th>12347.0</th>\n",
       "      <td>-2.048810</td>\n",
       "      <td>0.985595</td>\n",
       "      <td>1.109274</td>\n",
       "    </tr>\n",
       "    <tr>\n",
       "      <th>12348.0</th>\n",
       "      <td>1.193267</td>\n",
       "      <td>-0.293843</td>\n",
       "      <td>0.902083</td>\n",
       "    </tr>\n",
       "    <tr>\n",
       "      <th>12349.0</th>\n",
       "      <td>-0.571042</td>\n",
       "      <td>0.518322</td>\n",
       "      <td>0.619295</td>\n",
       "    </tr>\n",
       "    <tr>\n",
       "      <th>12350.0</th>\n",
       "      <td>1.343937</td>\n",
       "      <td>-1.166403</td>\n",
       "      <td>-1.036835</td>\n",
       "    </tr>\n",
       "    <tr>\n",
       "      <th>12352.0</th>\n",
       "      <td>-0.104236</td>\n",
       "      <td>0.714609</td>\n",
       "      <td>1.334664</td>\n",
       "    </tr>\n",
       "  </tbody>\n",
       "</table>\n",
       "</div>"
      ],
      "text/plain": [
       "             Recency  Frequency  Monetary\n",
       "CustomerID                               \n",
       "12347.0    -2.048810   0.985595  1.109274\n",
       "12348.0     1.193267  -0.293843  0.902083\n",
       "12349.0    -0.571042   0.518322  0.619295\n",
       "12350.0     1.343937  -1.166403 -1.036835\n",
       "12352.0    -0.104236   0.714609  1.334664"
      ]
     },
     "execution_count": 107,
     "metadata": {},
     "output_type": "execute_result"
    }
   ],
   "source": [
    "# transform into a dataframe\n",
    "rfm_scaled = pd.DataFrame(rfm_scaled, index = datamart.index, columns = rfm_log.columns)\n",
    "rfm_scaled.head()"
   ]
  },
  {
   "cell_type": "code",
   "execution_count": 108,
   "metadata": {},
   "outputs": [
    {
     "name": "stderr",
     "output_type": "stream",
     "text": [
      "C:\\Users\\jjone\\Anaconda3\\lib\\site-packages\\scipy\\stats\\stats.py:1713: FutureWarning: Using a non-tuple sequence for multidimensional indexing is deprecated; use `arr[tuple(seq)]` instead of `arr[seq]`. In the future this will be interpreted as an array index, `arr[np.array(seq)]`, which will result either in an error or a different result.\n",
      "  return np.add.reduce(sorted[indexer] * weights, axis=axis) / sumval\n"
     ]
    },
    {
     "data": {
      "image/png": "[encoded data removed]",
      "text/plain": [
       "<Figure size 432x288 with 3 Axes>"
      ]
     },
     "metadata": {
      "needs_background": "light"
     },
     "output_type": "display_data"
    }
   ],
   "source": [
    "# plot the distribution of RFM values\n",
    "plt.subplot(3, 1, 1); sns.distplot(rfm_scaled.Recency)\n",
    "plt.subplot(3, 1, 2); sns.distplot(rfm_scaled.Frequency)\n",
    "plt.subplot(3, 1, 3); sns.distplot(rfm_scaled.Monetary)\n",
    "\n",
    "plt.show()"
   ]
  },
  {
   "cell_type": "markdown",
   "metadata": {},
   "source": [
    "### 3-2. K-means clustering"
   ]
  },
  {
   "cell_type": "markdown",
   "metadata": {},
   "source": [
    "With the Elbow method, we can get the optimal number of clusters.  "
   ]
  },
  {
   "cell_type": "code",
   "execution_count": 109,
   "metadata": {},
   "outputs": [],
   "source": [
    "# initiate an empty dictionary\n",
    "wcss = {}\n",
    "\n",
    "# Elbow method with for loop\n",
    "for i in range(1, 21):\n",
    "    kmeans = KMeans(n_clusters= i, init= 'k-means++', max_iter= 300)\n",
    "    kmeans.fit(rfm_scaled)\n",
    "    wcss[i] = kmeans.inertia_"
   ]
  },
  {
   "cell_type": "code",
   "execution_count": 110,
   "metadata": {},
   "outputs": [
    {
     "data": {
      "image/png": "[encoded data removed]",
      "text/plain": [
       "<Figure size 432x288 with 1 Axes>"
      ]
     },
     "metadata": {
      "needs_background": "light"
     },
     "output_type": "display_data"
    }
   ],
   "source": [
    "sns.pointplot(x = list(wcss.keys()), y = list(wcss.values()))\n",
    "plt.show()"
   ]
  },
  {
   "cell_type": "code",
   "execution_count": 111,
   "metadata": {},
   "outputs": [
    {
     "data": {
      "text/plain": [
       "KMeans(algorithm='auto', copy_x=True, init='k-means++', max_iter=300,\n",
       "    n_clusters=4, n_init=10, n_jobs=1, precompute_distances='auto',\n",
       "    random_state=None, tol=0.0001, verbose=0)"
      ]
     },
     "execution_count": 111,
     "metadata": {},
     "output_type": "execute_result"
    }
   ],
   "source": [
    "# choose n_clusters = 4\n",
    "clus = KMeans(n_clusters= 4, init= 'k-means++', max_iter= 300)\n",
    "clus.fit(rfm_scaled)"
   ]
  },
  {
   "cell_type": "code",
   "execution_count": 112,
   "metadata": {},
   "outputs": [
    {
     "data": {
      "text/html": [
       "<div>\n",
       "<style scoped>\n",
       "    .dataframe tbody tr th:only-of-type {\n",
       "        vertical-align: middle;\n",
       "    }\n",
       "\n",
       "    .dataframe tbody tr th {\n",
       "        vertical-align: top;\n",
       "    }\n",
       "\n",
       "    .dataframe thead th {\n",
       "        text-align: right;\n",
       "    }\n",
       "</style>\n",
       "<table border=\"1\" class=\"dataframe\">\n",
       "  <thead>\n",
       "    <tr style=\"text-align: right;\">\n",
       "      <th></th>\n",
       "      <th>Recency</th>\n",
       "      <th>Frequency</th>\n",
       "      <th>Monetary</th>\n",
       "      <th>R</th>\n",
       "      <th>F</th>\n",
       "      <th>M</th>\n",
       "      <th>RFM_Segment</th>\n",
       "      <th>RFM_Score</th>\n",
       "      <th>Cluster</th>\n",
       "    </tr>\n",
       "    <tr>\n",
       "      <th>CustomerID</th>\n",
       "      <th></th>\n",
       "      <th></th>\n",
       "      <th></th>\n",
       "      <th></th>\n",
       "      <th></th>\n",
       "      <th></th>\n",
       "      <th></th>\n",
       "      <th></th>\n",
       "      <th></th>\n",
       "    </tr>\n",
       "  </thead>\n",
       "  <tbody>\n",
       "    <tr>\n",
       "      <th>12347.0</th>\n",
       "      <td>2</td>\n",
       "      <td>45</td>\n",
       "      <td>980.10</td>\n",
       "      <td>4</td>\n",
       "      <td>4</td>\n",
       "      <td>4</td>\n",
       "      <td>444</td>\n",
       "      <td>12.0</td>\n",
       "      <td>0</td>\n",
       "    </tr>\n",
       "    <tr>\n",
       "      <th>12348.0</th>\n",
       "      <td>248</td>\n",
       "      <td>9</td>\n",
       "      <td>728.88</td>\n",
       "      <td>1</td>\n",
       "      <td>2</td>\n",
       "      <td>4</td>\n",
       "      <td>124</td>\n",
       "      <td>7.0</td>\n",
       "      <td>1</td>\n",
       "    </tr>\n",
       "    <tr>\n",
       "      <th>12349.0</th>\n",
       "      <td>18</td>\n",
       "      <td>25</td>\n",
       "      <td>486.87</td>\n",
       "      <td>3</td>\n",
       "      <td>3</td>\n",
       "      <td>3</td>\n",
       "      <td>333</td>\n",
       "      <td>9.0</td>\n",
       "      <td>3</td>\n",
       "    </tr>\n",
       "    <tr>\n",
       "      <th>12350.0</th>\n",
       "      <td>310</td>\n",
       "      <td>3</td>\n",
       "      <td>45.70</td>\n",
       "      <td>1</td>\n",
       "      <td>1</td>\n",
       "      <td>1</td>\n",
       "      <td>111</td>\n",
       "      <td>3.0</td>\n",
       "      <td>2</td>\n",
       "    </tr>\n",
       "    <tr>\n",
       "      <th>12352.0</th>\n",
       "      <td>36</td>\n",
       "      <td>32</td>\n",
       "      <td>1353.48</td>\n",
       "      <td>3</td>\n",
       "      <td>3</td>\n",
       "      <td>4</td>\n",
       "      <td>334</td>\n",
       "      <td>10.0</td>\n",
       "      <td>0</td>\n",
       "    </tr>\n",
       "  </tbody>\n",
       "</table>\n",
       "</div>"
      ],
      "text/plain": [
       "            Recency  Frequency  Monetary  R  F  M RFM_Segment  RFM_Score  \\\n",
       "CustomerID                                                                 \n",
       "12347.0           2         45    980.10  4  4  4         444       12.0   \n",
       "12348.0         248          9    728.88  1  2  4         124        7.0   \n",
       "12349.0          18         25    486.87  3  3  3         333        9.0   \n",
       "12350.0         310          3     45.70  1  1  1         111        3.0   \n",
       "12352.0          36         32   1353.48  3  3  4         334       10.0   \n",
       "\n",
       "            Cluster  \n",
       "CustomerID           \n",
       "12347.0           0  \n",
       "12348.0           1  \n",
       "12349.0           3  \n",
       "12350.0           2  \n",
       "12352.0           0  "
      ]
     },
     "execution_count": 112,
     "metadata": {},
     "output_type": "execute_result"
    }
   ],
   "source": [
    "# Assign the clusters to datamart\n",
    "datamart['Cluster'] = clus.labels_\n",
    "datamart.head()"
   ]
  },
  {
   "cell_type": "markdown",
   "metadata": {},
   "source": [
    "### 3-3. Visualization"
   ]
  },
  {
   "cell_type": "markdown",
   "metadata": {},
   "source": [
    "Now we can go further analysis with this label as we did with RFM quantils."
   ]
  },
  {
   "cell_type": "code",
   "execution_count": 114,
   "metadata": {},
   "outputs": [
    {
     "data": {
      "text/html": [
       "<div>\n",
       "<style scoped>\n",
       "    .dataframe tbody tr th:only-of-type {\n",
       "        vertical-align: middle;\n",
       "    }\n",
       "\n",
       "    .dataframe tbody tr th {\n",
       "        vertical-align: top;\n",
       "    }\n",
       "\n",
       "    .dataframe thead tr th {\n",
       "        text-align: left;\n",
       "    }\n",
       "\n",
       "    .dataframe thead tr:last-of-type th {\n",
       "        text-align: right;\n",
       "    }\n",
       "</style>\n",
       "<table border=\"1\" class=\"dataframe\">\n",
       "  <thead>\n",
       "    <tr>\n",
       "      <th></th>\n",
       "      <th>Recency</th>\n",
       "      <th>Frequency</th>\n",
       "      <th colspan=\"2\" halign=\"left\">Monetary</th>\n",
       "    </tr>\n",
       "    <tr>\n",
       "      <th></th>\n",
       "      <th>mean</th>\n",
       "      <th>mean</th>\n",
       "      <th>mean</th>\n",
       "      <th>count</th>\n",
       "    </tr>\n",
       "    <tr>\n",
       "      <th>Cluster</th>\n",
       "      <th></th>\n",
       "      <th></th>\n",
       "      <th></th>\n",
       "      <th></th>\n",
       "    </tr>\n",
       "  </thead>\n",
       "  <tbody>\n",
       "    <tr>\n",
       "      <th>0</th>\n",
       "      <td>17.372</td>\n",
       "      <td>82.752</td>\n",
       "      <td>1824.132</td>\n",
       "      <td>992</td>\n",
       "    </tr>\n",
       "    <tr>\n",
       "      <th>1</th>\n",
       "      <td>138.890</td>\n",
       "      <td>16.527</td>\n",
       "      <td>314.041</td>\n",
       "      <td>1421</td>\n",
       "    </tr>\n",
       "    <tr>\n",
       "      <th>2</th>\n",
       "      <td>174.553</td>\n",
       "      <td>3.219</td>\n",
       "      <td>6.623</td>\n",
       "      <td>929</td>\n",
       "    </tr>\n",
       "    <tr>\n",
       "      <th>3</th>\n",
       "      <td>18.652</td>\n",
       "      <td>15.323</td>\n",
       "      <td>210.346</td>\n",
       "      <td>880</td>\n",
       "    </tr>\n",
       "  </tbody>\n",
       "</table>\n",
       "</div>"
      ],
      "text/plain": [
       "         Recency Frequency  Monetary      \n",
       "            mean      mean      mean count\n",
       "Cluster                                   \n",
       "0         17.372    82.752  1824.132   992\n",
       "1        138.890    16.527   314.041  1421\n",
       "2        174.553     3.219     6.623   929\n",
       "3         18.652    15.323   210.346   880"
      ]
     },
     "execution_count": 114,
     "metadata": {},
     "output_type": "execute_result"
    }
   ],
   "source": [
    "datamart.groupby('Cluster').agg({\n",
    "    'Recency' : 'mean',\n",
    "    'Frequency' : 'mean',\n",
    "    'Monetary' : ['mean', 'count']\n",
    "}).round(3)"
   ]
  },
  {
   "cell_type": "markdown",
   "metadata": {},
   "source": [
    "In marketing, snail plot and heatmap are often used plot for visualization. I'll use the `rfm_scaled` dataframe with normalized rfm values for the plot."
   ]
  },
  {
   "cell_type": "code",
   "execution_count": 115,
   "metadata": {},
   "outputs": [],
   "source": [
    "# assign cluster column \n",
    "rfm_scaled['Cluster'] = clus.labels_\n",
    "rfm_scaled.reset_index(inplace = True)"
   ]
  },
  {
   "cell_type": "code",
   "execution_count": 116,
   "metadata": {},
   "outputs": [
    {
     "data": {
      "text/html": [
       "<div>\n",
       "<style scoped>\n",
       "    .dataframe tbody tr th:only-of-type {\n",
       "        vertical-align: middle;\n",
       "    }\n",
       "\n",
       "    .dataframe tbody tr th {\n",
       "        vertical-align: top;\n",
       "    }\n",
       "\n",
       "    .dataframe thead th {\n",
       "        text-align: right;\n",
       "    }\n",
       "</style>\n",
       "<table border=\"1\" class=\"dataframe\">\n",
       "  <thead>\n",
       "    <tr style=\"text-align: right;\">\n",
       "      <th></th>\n",
       "      <th>CustomerID</th>\n",
       "      <th>Recency</th>\n",
       "      <th>Frequency</th>\n",
       "      <th>Monetary</th>\n",
       "      <th>Cluster</th>\n",
       "    </tr>\n",
       "  </thead>\n",
       "  <tbody>\n",
       "    <tr>\n",
       "      <th>0</th>\n",
       "      <td>12347.0</td>\n",
       "      <td>-2.048810</td>\n",
       "      <td>0.985595</td>\n",
       "      <td>1.109274</td>\n",
       "      <td>0</td>\n",
       "    </tr>\n",
       "    <tr>\n",
       "      <th>1</th>\n",
       "      <td>12348.0</td>\n",
       "      <td>1.193267</td>\n",
       "      <td>-0.293843</td>\n",
       "      <td>0.902083</td>\n",
       "      <td>1</td>\n",
       "    </tr>\n",
       "    <tr>\n",
       "      <th>2</th>\n",
       "      <td>12349.0</td>\n",
       "      <td>-0.571042</td>\n",
       "      <td>0.518322</td>\n",
       "      <td>0.619295</td>\n",
       "      <td>3</td>\n",
       "    </tr>\n",
       "    <tr>\n",
       "      <th>3</th>\n",
       "      <td>12350.0</td>\n",
       "      <td>1.343937</td>\n",
       "      <td>-1.166403</td>\n",
       "      <td>-1.036835</td>\n",
       "      <td>2</td>\n",
       "    </tr>\n",
       "    <tr>\n",
       "      <th>4</th>\n",
       "      <td>12352.0</td>\n",
       "      <td>-0.104236</td>\n",
       "      <td>0.714609</td>\n",
       "      <td>1.334664</td>\n",
       "      <td>0</td>\n",
       "    </tr>\n",
       "  </tbody>\n",
       "</table>\n",
       "</div>"
      ],
      "text/plain": [
       "   CustomerID   Recency  Frequency  Monetary  Cluster\n",
       "0     12347.0 -2.048810   0.985595  1.109274        0\n",
       "1     12348.0  1.193267  -0.293843  0.902083        1\n",
       "2     12349.0 -0.571042   0.518322  0.619295        3\n",
       "3     12350.0  1.343937  -1.166403 -1.036835        2\n",
       "4     12352.0 -0.104236   0.714609  1.334664        0"
      ]
     },
     "execution_count": 116,
     "metadata": {},
     "output_type": "execute_result"
    }
   ],
   "source": [
    "rfm_scaled.head()"
   ]
  },
  {
   "cell_type": "code",
   "execution_count": 117,
   "metadata": {},
   "outputs": [
    {
     "data": {
      "text/html": [
       "<div>\n",
       "<style scoped>\n",
       "    .dataframe tbody tr th:only-of-type {\n",
       "        vertical-align: middle;\n",
       "    }\n",
       "\n",
       "    .dataframe tbody tr th {\n",
       "        vertical-align: top;\n",
       "    }\n",
       "\n",
       "    .dataframe thead th {\n",
       "        text-align: right;\n",
       "    }\n",
       "</style>\n",
       "<table border=\"1\" class=\"dataframe\">\n",
       "  <thead>\n",
       "    <tr style=\"text-align: right;\">\n",
       "      <th></th>\n",
       "      <th>CustomerID</th>\n",
       "      <th>Cluster</th>\n",
       "      <th>Metrics</th>\n",
       "      <th>Value</th>\n",
       "    </tr>\n",
       "  </thead>\n",
       "  <tbody>\n",
       "    <tr>\n",
       "      <th>0</th>\n",
       "      <td>12347.0</td>\n",
       "      <td>0</td>\n",
       "      <td>Recency</td>\n",
       "      <td>-2.048810</td>\n",
       "    </tr>\n",
       "    <tr>\n",
       "      <th>1</th>\n",
       "      <td>12348.0</td>\n",
       "      <td>1</td>\n",
       "      <td>Recency</td>\n",
       "      <td>1.193267</td>\n",
       "    </tr>\n",
       "    <tr>\n",
       "      <th>2</th>\n",
       "      <td>12349.0</td>\n",
       "      <td>3</td>\n",
       "      <td>Recency</td>\n",
       "      <td>-0.571042</td>\n",
       "    </tr>\n",
       "    <tr>\n",
       "      <th>3</th>\n",
       "      <td>12350.0</td>\n",
       "      <td>2</td>\n",
       "      <td>Recency</td>\n",
       "      <td>1.343937</td>\n",
       "    </tr>\n",
       "    <tr>\n",
       "      <th>4</th>\n",
       "      <td>12352.0</td>\n",
       "      <td>0</td>\n",
       "      <td>Recency</td>\n",
       "      <td>-0.104236</td>\n",
       "    </tr>\n",
       "  </tbody>\n",
       "</table>\n",
       "</div>"
      ],
      "text/plain": [
       "   CustomerID  Cluster  Metrics     Value\n",
       "0     12347.0        0  Recency -2.048810\n",
       "1     12348.0        1  Recency  1.193267\n",
       "2     12349.0        3  Recency -0.571042\n",
       "3     12350.0        2  Recency  1.343937\n",
       "4     12352.0        0  Recency -0.104236"
      ]
     },
     "execution_count": 117,
     "metadata": {},
     "output_type": "execute_result"
    }
   ],
   "source": [
    "# melt the dataframe\n",
    "rfm_melted = pd.melt(frame= rfm_scaled, id_vars= ['CustomerID', 'Cluster'], var_name = 'Metrics', value_name = 'Value')\n",
    "rfm_melted.head()"
   ]
  },
  {
   "cell_type": "code",
   "execution_count": 118,
   "metadata": {},
   "outputs": [
    {
     "name": "stderr",
     "output_type": "stream",
     "text": [
      "C:\\Users\\jjone\\Anaconda3\\lib\\site-packages\\scipy\\stats\\stats.py:1713: FutureWarning: Using a non-tuple sequence for multidimensional indexing is deprecated; use `arr[tuple(seq)]` instead of `arr[seq]`. In the future this will be interpreted as an array index, `arr[np.array(seq)]`, which will result either in an error or a different result.\n",
      "  return np.add.reduce(sorted[indexer] * weights, axis=axis) / sumval\n"
     ]
    },
    {
     "data": {
      "text/plain": [
       "<matplotlib.legend.Legend at 0x234a8d3c390>"
      ]
     },
     "execution_count": 118,
     "metadata": {},
     "output_type": "execute_result"
    },
    {
     "data": {
      "image/png": "[encoded data removed]",
      "text/plain": [
       "<Figure size 432x288 with 1 Axes>"
      ]
     },
     "metadata": {
      "needs_background": "light"
     },
     "output_type": "display_data"
    }
   ],
   "source": [
    "# a snake plot\n",
    "sns.lineplot(x = 'Metrics', y = 'Value', hue = 'Cluster', data = rfm_melted)\n",
    "plt.title('Snake Plot of RFM')\n",
    "plt.legend(loc = 'upper right')"
   ]
  },
  {
   "cell_type": "markdown",
   "metadata": {},
   "source": [
    "Heatmap is efficient for comparing the standardized values. "
   ]
  },
  {
   "cell_type": "code",
   "execution_count": 119,
   "metadata": {},
   "outputs": [
    {
     "data": {
      "text/html": [
       "<div>\n",
       "<style scoped>\n",
       "    .dataframe tbody tr th:only-of-type {\n",
       "        vertical-align: middle;\n",
       "    }\n",
       "\n",
       "    .dataframe tbody tr th {\n",
       "        vertical-align: top;\n",
       "    }\n",
       "\n",
       "    .dataframe thead th {\n",
       "        text-align: right;\n",
       "    }\n",
       "</style>\n",
       "<table border=\"1\" class=\"dataframe\">\n",
       "  <thead>\n",
       "    <tr style=\"text-align: right;\">\n",
       "      <th></th>\n",
       "      <th>Recency</th>\n",
       "      <th>Frequency</th>\n",
       "      <th>Monetary</th>\n",
       "    </tr>\n",
       "    <tr>\n",
       "      <th>Cluster</th>\n",
       "      <th></th>\n",
       "      <th></th>\n",
       "      <th></th>\n",
       "    </tr>\n",
       "  </thead>\n",
       "  <tbody>\n",
       "    <tr>\n",
       "      <th>0</th>\n",
       "      <td>17.371976</td>\n",
       "      <td>82.752016</td>\n",
       "      <td>1824.131845</td>\n",
       "    </tr>\n",
       "    <tr>\n",
       "      <th>1</th>\n",
       "      <td>138.890218</td>\n",
       "      <td>16.527094</td>\n",
       "      <td>314.041288</td>\n",
       "    </tr>\n",
       "    <tr>\n",
       "      <th>2</th>\n",
       "      <td>174.553283</td>\n",
       "      <td>3.218515</td>\n",
       "      <td>6.622949</td>\n",
       "    </tr>\n",
       "    <tr>\n",
       "      <th>3</th>\n",
       "      <td>18.652273</td>\n",
       "      <td>15.322727</td>\n",
       "      <td>210.346000</td>\n",
       "    </tr>\n",
       "  </tbody>\n",
       "</table>\n",
       "</div>"
      ],
      "text/plain": [
       "            Recency  Frequency     Monetary\n",
       "Cluster                                    \n",
       "0         17.371976  82.752016  1824.131845\n",
       "1        138.890218  16.527094   314.041288\n",
       "2        174.553283   3.218515     6.622949\n",
       "3         18.652273  15.322727   210.346000"
      ]
     },
     "execution_count": 119,
     "metadata": {},
     "output_type": "execute_result"
    }
   ],
   "source": [
    "# the mean value for each cluster\n",
    "cluster_avg = datamart.groupby('Cluster').mean().iloc[:, 0:3]\n",
    "cluster_avg.head()"
   ]
  },
  {
   "cell_type": "code",
   "execution_count": 120,
   "metadata": {},
   "outputs": [
    {
     "data": {
      "text/plain": [
       "Recency       93.124112\n",
       "Frequency     28.907864\n",
       "Monetary     579.594661\n",
       "dtype: float64"
      ]
     },
     "execution_count": 120,
     "metadata": {},
     "output_type": "execute_result"
    }
   ],
   "source": [
    "# the mean value in total \n",
    "total_avg = datamart.iloc[:, 0:3].mean()\n",
    "total_avg"
   ]
  },
  {
   "cell_type": "code",
   "execution_count": 121,
   "metadata": {},
   "outputs": [
    {
     "data": {
      "text/html": [
       "<div>\n",
       "<style scoped>\n",
       "    .dataframe tbody tr th:only-of-type {\n",
       "        vertical-align: middle;\n",
       "    }\n",
       "\n",
       "    .dataframe tbody tr th {\n",
       "        vertical-align: top;\n",
       "    }\n",
       "\n",
       "    .dataframe thead th {\n",
       "        text-align: right;\n",
       "    }\n",
       "</style>\n",
       "<table border=\"1\" class=\"dataframe\">\n",
       "  <thead>\n",
       "    <tr style=\"text-align: right;\">\n",
       "      <th></th>\n",
       "      <th>Recency</th>\n",
       "      <th>Frequency</th>\n",
       "      <th>Monetary</th>\n",
       "    </tr>\n",
       "    <tr>\n",
       "      <th>Cluster</th>\n",
       "      <th></th>\n",
       "      <th></th>\n",
       "      <th></th>\n",
       "    </tr>\n",
       "  </thead>\n",
       "  <tbody>\n",
       "    <tr>\n",
       "      <th>0</th>\n",
       "      <td>-0.813454</td>\n",
       "      <td>1.862613</td>\n",
       "      <td>2.147254</td>\n",
       "    </tr>\n",
       "    <tr>\n",
       "      <th>1</th>\n",
       "      <td>0.491453</td>\n",
       "      <td>-0.428284</td>\n",
       "      <td>-0.458171</td>\n",
       "    </tr>\n",
       "    <tr>\n",
       "      <th>2</th>\n",
       "      <td>0.874416</td>\n",
       "      <td>-0.888663</td>\n",
       "      <td>-0.988573</td>\n",
       "    </tr>\n",
       "    <tr>\n",
       "      <th>3</th>\n",
       "      <td>-0.799705</td>\n",
       "      <td>-0.469946</td>\n",
       "      <td>-0.637081</td>\n",
       "    </tr>\n",
       "  </tbody>\n",
       "</table>\n",
       "</div>"
      ],
      "text/plain": [
       "          Recency  Frequency  Monetary\n",
       "Cluster                               \n",
       "0       -0.813454   1.862613  2.147254\n",
       "1        0.491453  -0.428284 -0.458171\n",
       "2        0.874416  -0.888663 -0.988573\n",
       "3       -0.799705  -0.469946 -0.637081"
      ]
     },
     "execution_count": 121,
     "metadata": {},
     "output_type": "execute_result"
    }
   ],
   "source": [
    "# the proportional mean value\n",
    "prop_rfm = cluster_avg/total_avg - 1\n",
    "prop_rfm"
   ]
  },
  {
   "cell_type": "code",
   "execution_count": 122,
   "metadata": {},
   "outputs": [
    {
     "data": {
      "text/plain": [
       "[]"
      ]
     },
     "execution_count": 122,
     "metadata": {},
     "output_type": "execute_result"
    },
    {
     "data": {
      "image/png": "[encoded data removed]",
      "text/plain": [
       "<Figure size 432x288 with 2 Axes>"
      ]
     },
     "metadata": {
      "needs_background": "light"
     },
     "output_type": "display_data"
    }
   ],
   "source": [
    "# heatmap\n",
    "sns.heatmap(prop_rfm, cmap= 'Blues', fmt= '.2f', annot = True)\n",
    "plt.plot()"
   ]
  },
  {
   "cell_type": "code",
   "execution_count": null,
   "metadata": {},
   "outputs": [],
   "source": []
  }
 ],
 "metadata": {
  "kernelspec": {
   "display_name": "Python 3",
   "language": "python",
   "name": "python3"
  },
  "language_info": {
   "codemirror_mode": {
    "name": "ipython",
    "version": 3
   },
   "file_extension": ".py",
   "mimetype": "text/x-python",
   "name": "python",
   "nbconvert_exporter": "python",
   "pygments_lexer": "ipython3",
   "version": "3.7.0"
  }
 },
 "nbformat": 4,
 "nbformat_minor": 2
}
